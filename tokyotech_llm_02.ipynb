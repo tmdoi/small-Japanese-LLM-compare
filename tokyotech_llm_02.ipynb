{
  "nbformat": 4,
  "nbformat_minor": 0,
  "metadata": {
    "colab": {
      "provenance": [],
      "gpuType": "T4",
      "authorship_tag": "ABX9TyPrVzgcUIVhajGe+hn5kj4Y",
      "include_colab_link": true
    },
    "kernelspec": {
      "name": "python3",
      "display_name": "Python 3"
    },
    "language_info": {
      "name": "python"
    },
    "accelerator": "GPU"
  },
  "cells": [
    {
      "cell_type": "markdown",
      "metadata": {
        "id": "view-in-github",
        "colab_type": "text"
      },
      "source": [
        "<a href=\"https://colab.research.google.com/github/tmdoi/small-Japanese-LLM-compare/blob/main/tokyotech_llm_02.ipynb\" target=\"_parent\"><img src=\"https://colab.research.google.com/assets/colab-badge.svg\" alt=\"Open In Colab\"/></a>"
      ]
    },
    {
      "cell_type": "markdown",
      "source": [
        "情報源\n",
        "[\n",
        "tokyotech-llm/Llama-3.1-Swallow-8B-Instruct-v0.5](https://huggingface.co/tokyotech-llm/Llama-3.1-Swallow-8B-Instruct-v0.5)"
      ],
      "metadata": {
        "id": "VKhn4pIDvFHR"
      }
    },
    {
      "cell_type": "code",
      "source": [
        "!nvidia-smi"
      ],
      "metadata": {
        "collapsed": true,
        "id": "8mKXBEkzvSab"
      },
      "execution_count": null,
      "outputs": []
    },
    {
      "cell_type": "code",
      "source": [
        "%pip -q install --upgrade pip\n",
        "%pip -q install transformers accelerate bitsandbytes huggingface_hub\n"
      ],
      "metadata": {
        "id": "JLLYsS9vyGz7"
      },
      "execution_count": null,
      "outputs": []
    },
    {
      "cell_type": "code",
      "source": [
        "import os\n",
        "\n",
        "# vLLM が要求するマルチプロセス方式を事前に明示\n",
        "os.environ[\"VLLM_WORKER_MULTIPROC_METHOD\"] = \"spawn\"\n",
        "\n",
        "# 単一GPUを明示（Colab L4想定）\n",
        "os.environ[\"CUDA_VISIBLE_DEVICES\"] = \"0\"\n",
        "\n",
        "# まれな相性問題の回避に有効な場合あり（必要時のみ有効化）\n",
        "# os.environ[\"VLLM_USE_TRITON_FLASH_ATTENTION\"] = \"0\"\n",
        "\n",
        "print(\"環境変数を設定しました。\")\n"
      ],
      "metadata": {
        "id": "GGoFCL_1vXaT"
      },
      "execution_count": null,
      "outputs": []
    },
    {
      "cell_type": "code",
      "source": [
        "from huggingface_hub import login\n",
        "login()  # 対話プロンプトに従って hf_ から始まるトークンを貼り付け\n"
      ],
      "metadata": {
        "id": "_aUlB5PPy3ms"
      },
      "execution_count": null,
      "outputs": []
    },
    {
      "cell_type": "code",
      "source": [
        "import torch\n",
        "from transformers import AutoModelForCausalLM, AutoTokenizer, TextStreamer\n",
        "\n",
        "MODEL = \"tokyotech-llm/Llama-3.1-Swallow-8B-Instruct-v0.5\"\n",
        "\n",
        "tok = AutoTokenizer.from_pretrained(MODEL, use_fast=True)\n",
        "\n",
        "model = AutoModelForCausalLM.from_pretrained(\n",
        "    MODEL,\n",
        "    device_map=\"auto\",\n",
        "    torch_dtype=torch.float16,   # T4 は bf16 非対応\n",
        "    load_in_4bit=True,           # ★ ここがポイント（bitsandbytes 4bit）\n",
        "    bnb_4bit_compute_dtype=torch.float16,\n",
        ")\n",
        "\n",
        "prompt = tok.apply_chat_template(\n",
        "    [\n",
        "        {\"role\": \"system\", \"content\": \"丁寧・簡潔・明晰に回答してください。\"},\n",
        "        {\"role\": \"user\", \"content\": \"東京の紅葉した公園で…（略）…物語を書いてください。\"}\n",
        "    ],\n",
        "    tokenize=False, add_generation_prompt=True\n",
        ")\n",
        "\n",
        "inputs = tok(prompt, return_tensors=\"pt\").to(model.device)\n",
        "streamer = TextStreamer(tok, skip_prompt=True, skip_special_tokens=True)\n",
        "\n",
        "_ = model.generate(\n",
        "    **inputs,\n",
        "    max_new_tokens=512,\n",
        "    temperature=0.6, top_p=0.9,\n",
        "    do_sample=True,\n",
        "    streamer=streamer\n",
        ")\n"
      ],
      "metadata": {
        "id": "LvMvmGce3-2D"
      },
      "execution_count": null,
      "outputs": []
    },
    {
      "cell_type": "code",
      "source": [],
      "metadata": {
        "id": "nB78f7jEy_Wy"
      },
      "execution_count": null,
      "outputs": []
    }
  ]
}