{
  "nbformat": 4,
  "nbformat_minor": 0,
  "metadata": {
    "colab": {
      "provenance": [],
      "gpuType": "T4",
      "authorship_tag": "ABX9TyNtw/5pncSV2jnplKexHzvS",
      "include_colab_link": true
    },
    "kernelspec": {
      "name": "python3",
      "display_name": "Python 3"
    },
    "language_info": {
      "name": "python"
    },
    "accelerator": "GPU"
  },
  "cells": [
    {
      "cell_type": "markdown",
      "metadata": {
        "id": "view-in-github",
        "colab_type": "text"
      },
      "source": [
        "<a href=\"https://colab.research.google.com/github/tmdoi/small-Japanese-LLM-compare/blob/main/jweb_japanese_soseki_gpt2_1b.ipynb\" target=\"_parent\"><img src=\"https://colab.research.google.com/assets/colab-badge.svg\" alt=\"Open In Colab\"/></a>"
      ]
    },
    {
      "cell_type": "code",
      "execution_count": null,
      "metadata": {
        "id": "JrHCxZbmmzXG"
      },
      "outputs": [],
      "source": [
        "import torch\n",
        "from transformers import T5Tokenizer, AutoModelForCausalLM\n",
        "\n",
        "tokenizer = T5Tokenizer.from_pretrained(\"jweb/japanese-soseki-gpt2-1b\")\n",
        "model = AutoModelForCausalLM.from_pretrained(\"jweb/japanese-soseki-gpt2-1b\")\n",
        "\n",
        "if torch.cuda.is_available():\n",
        "    model = model.to(\"cuda\")\n",
        "\n",
        "text = \"夏目漱石は、\"\n",
        "token_ids = tokenizer.encode(text, add_special_tokens=False, return_tensors=\"pt\")\n",
        "\n",
        "with torch.no_grad():\n",
        "    output_ids = model.generate(\n",
        "        token_ids.to(model.device),\n",
        "        max_length=128,\n",
        "        min_length=40,\n",
        "        do_sample=True,\n",
        "        repetition_penalty= 1.6,\n",
        "        early_stopping= True,\n",
        "        num_beams= 5,\n",
        "        temperature= 1.0,\n",
        "        top_k=500,\n",
        "        top_p=0.95,\n",
        "        pad_token_id=tokenizer.pad_token_id,\n",
        "        bos_token_id=tokenizer.bos_token_id,\n",
        "        eos_token_id=tokenizer.eos_token_id,\n",
        "    )\n",
        "\n",
        "output = tokenizer.decode(output_ids.tolist()[0])\n",
        "print(output)\n",
        "# sample output: 夏目漱石は、明治時代を代表する文豪です。夏目漱石の代表作は「吾輩は猫である」や「坊っちゃん」、「草枕」「三四郎」、それに「虞美人草(ぐびじんそう)」などたくさんあります。\n"
      ]
    },
    {
      "cell_type": "code",
      "source": [
        "text = \"石川啄木は、\"\n",
        "token_ids = tokenizer.encode(text, add_special_tokens=False, return_tensors=\"pt\")\n",
        "\n",
        "with torch.no_grad():\n",
        "    output_ids = model.generate(\n",
        "        token_ids.to(model.device),\n",
        "        max_length=128,\n",
        "        min_length=40,\n",
        "        do_sample=True,\n",
        "        repetition_penalty= 1.6,\n",
        "        early_stopping= True,\n",
        "        num_beams= 5,\n",
        "        temperature= 1.0,\n",
        "        top_k=500,\n",
        "        top_p=0.95,\n",
        "        pad_token_id=tokenizer.pad_token_id,\n",
        "        bos_token_id=tokenizer.bos_token_id,\n",
        "        eos_token_id=tokenizer.eos_token_id,\n",
        "    )\n",
        "\n",
        "output = tokenizer.decode(output_ids.tolist()[0])\n",
        "print(output)\n",
        "# sample output: 夏目漱石は、明治時代を代表する文豪です。夏目漱石の代表作は「吾輩は猫である」や「坊っちゃん」、「草枕」「三四郎」、それに「虞美人草(ぐびじんそう)」などたくさんあります。\n"
      ],
      "metadata": {
        "id": "YCoin5y1nLXx"
      },
      "execution_count": null,
      "outputs": []
    },
    {
      "cell_type": "code",
      "source": [
        "text = \"芥川龍之介は、\"\n",
        "token_ids = tokenizer.encode(text, add_special_tokens=False, return_tensors=\"pt\")\n",
        "\n",
        "with torch.no_grad():\n",
        "    output_ids = model.generate(\n",
        "        token_ids.to(model.device),\n",
        "        max_length=128,\n",
        "        min_length=40,\n",
        "        do_sample=True,\n",
        "        repetition_penalty= 1.6,\n",
        "        early_stopping= True,\n",
        "        num_beams= 5,\n",
        "        temperature= 1.0,\n",
        "        top_k=500,\n",
        "        top_p=0.95,\n",
        "        pad_token_id=tokenizer.pad_token_id,\n",
        "        bos_token_id=tokenizer.bos_token_id,\n",
        "        eos_token_id=tokenizer.eos_token_id,\n",
        "    )\n",
        "\n",
        "output = tokenizer.decode(output_ids.tolist()[0])\n",
        "print(output)\n",
        "# sample output: 夏目漱石は、明治時代を代表する文豪です。夏目漱石の代表作は「吾輩は猫である」や「坊っちゃん」、「草枕」「三四郎」、それに「虞美人草(ぐびじんそう)」などたくさんあります。\n"
      ],
      "metadata": {
        "id": "xXSSCqpErJpT"
      },
      "execution_count": null,
      "outputs": []
    },
    {
      "cell_type": "code",
      "source": [],
      "metadata": {
        "id": "4ayJHDo8rYUU"
      },
      "execution_count": null,
      "outputs": []
    },
    {
      "cell_type": "code",
      "source": [
        "text = \"芥川龍之介の作品を３つ教えて．\"\n",
        "token_ids = tokenizer.encode(text, add_special_tokens=False, return_tensors=\"pt\")\n",
        "\n",
        "with torch.no_grad():\n",
        "    output_ids = model.generate(\n",
        "        token_ids.to(model.device),\n",
        "        max_length=128,\n",
        "        min_length=40,\n",
        "        do_sample=True,\n",
        "        repetition_penalty= 1.6,\n",
        "        early_stopping= True,\n",
        "        num_beams= 5,\n",
        "        temperature= 1.0,\n",
        "        top_k=500,\n",
        "        top_p=0.95,\n",
        "        pad_token_id=tokenizer.pad_token_id,\n",
        "        bos_token_id=tokenizer.bos_token_id,\n",
        "        eos_token_id=tokenizer.eos_token_id,\n",
        "    )\n",
        "\n",
        "output = tokenizer.decode(output_ids.tolist()[0])\n",
        "print(output)\n",
        "# sample output: 夏目漱石は、明治時代を代表する文豪です。夏目漱石の代表作は「吾輩は猫である」や「坊っちゃん」、「草枕」「三四郎」、それに「虞美人草(ぐびじんそう)」などたくさんあります。\n"
      ],
      "metadata": {
        "id": "hcVZSMOPrZJg"
      },
      "execution_count": null,
      "outputs": []
    }
  ]
}