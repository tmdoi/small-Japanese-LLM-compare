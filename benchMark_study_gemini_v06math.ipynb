{
  "nbformat": 4,
  "nbformat_minor": 0,
  "metadata": {
    "colab": {
      "provenance": [],
      "gpuType": "T4",
      "authorship_tag": "ABX9TyN+Fc/QtrLrU4T1+n7L7thJ",
      "include_colab_link": true
    },
    "kernelspec": {
      "name": "python3",
      "display_name": "Python 3"
    },
    "language_info": {
      "name": "python"
    },
    "accelerator": "GPU"
  },
  "cells": [
    {
      "cell_type": "markdown",
      "metadata": {
        "id": "view-in-github",
        "colab_type": "text"
      },
      "source": [
        "<a href=\"https://colab.research.google.com/github/tmdoi/small-Japanese-LLM-compare/blob/main/benchMark_study_gemini_v06math.ipynb\" target=\"_parent\"><img src=\"https://colab.research.google.com/assets/colab-badge.svg\" alt=\"Open In Colab\"/></a>"
      ]
    },
    {
      "cell_type": "code",
      "execution_count": null,
      "metadata": {
        "id": "gqVLjbLFxVXd"
      },
      "outputs": [],
      "source": [
        "!pip install -q google-genai"
      ]
    },
    {
      "cell_type": "code",
      "source": [
        "import os\n",
        "from google.colab import userdata\n",
        "\n",
        "# SDK 読み込み\n",
        "from google import genai\n",
        "\n",
        "# Colab Secrets から安全に取得\n",
        "api_key = userdata.get('GEMINI_API_KEY')\n",
        "\n",
        "if not api_key:\n",
        "    raise ValueError(\"GEMINI_API_KEY が定義されていません。Colab の Secrets を確認してください。\")\n",
        "\n",
        "\n",
        "client = genai.Client(api_key=api_key)"
      ],
      "metadata": {
        "id": "SNQzGhVDrgNR"
      },
      "execution_count": null,
      "outputs": []
    },
    {
      "cell_type": "code",
      "source": [
        "response = client.models.generate_content(\n",
        "    model=\"gemini-2.5-flash\",\n",
        "    contents=\"日本語でAIの今後の展望を3行で要約してください。\"\n",
        ")\n",
        "\n",
        "print(response.text)"
      ],
      "metadata": {
        "id": "1zJbn2_drof_"
      },
      "execution_count": null,
      "outputs": []
    },
    {
      "cell_type": "code",
      "source": [
        "response = client.models.generate_content(\n",
        "    model=\"gemini-2.5-pro\",\n",
        "    contents=\"次の数式を含む文字列から答えのみ数値として取り出したい．数値だけを出力して．「3✕5-3＝12」\"\n",
        ")\n",
        "\n",
        "print(response.text)"
      ],
      "metadata": {
        "id": "5rV19J0YszQE"
      },
      "execution_count": null,
      "outputs": []
    }
  ]
}