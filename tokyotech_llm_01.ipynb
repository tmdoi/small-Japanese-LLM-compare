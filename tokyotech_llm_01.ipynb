{
  "nbformat": 4,
  "nbformat_minor": 0,
  "metadata": {
    "colab": {
      "provenance": [],
      "machine_shape": "hm",
      "gpuType": "L4",
      "authorship_tag": "ABX9TyN+eIOtc5KENVub1VZr+j0c",
      "include_colab_link": true
    },
    "kernelspec": {
      "name": "python3",
      "display_name": "Python 3"
    },
    "language_info": {
      "name": "python"
    },
    "accelerator": "GPU"
  },
  "cells": [
    {
      "cell_type": "markdown",
      "metadata": {
        "id": "view-in-github",
        "colab_type": "text"
      },
      "source": [
        "<a href=\"https://colab.research.google.com/github/tmdoi/small-Japanese-LLM-compare/blob/main/tokyotech_llm_01.ipynb\" target=\"_parent\"><img src=\"https://colab.research.google.com/assets/colab-badge.svg\" alt=\"Open In Colab\"/></a>"
      ]
    },
    {
      "cell_type": "markdown",
      "source": [
        "情報源\n",
        "[\n",
        "tokyotech-llm/Llama-3.1-Swallow-8B-Instruct-v0.5](https://huggingface.co/tokyotech-llm/Llama-3.1-Swallow-8B-Instruct-v0.5)"
      ],
      "metadata": {
        "id": "VKhn4pIDvFHR"
      }
    },
    {
      "cell_type": "code",
      "source": [
        "!nvidia-smi"
      ],
      "metadata": {
        "collapsed": true,
        "id": "8mKXBEkzvSab"
      },
      "execution_count": null,
      "outputs": []
    },
    {
      "cell_type": "code",
      "source": [
        "%pip -q install --upgrade pip\n",
        "%pip -q install \"vllm-cu121>=0.5.0\" transformers accelerate huggingface_hub hf_transfer\n",
        "print(\"インストール完了：このセルの後、【ランタイムを再起動】してください。\")"
      ],
      "metadata": {
        "id": "JLLYsS9vyGz7"
      },
      "execution_count": null,
      "outputs": []
    },
    {
      "cell_type": "code",
      "source": [
        "import os\n",
        "\n",
        "# vLLM が要求するマルチプロセス方式を事前に明示\n",
        "os.environ[\"VLLM_WORKER_MULTIPROC_METHOD\"] = \"spawn\"\n",
        "\n",
        "# 単一GPUを明示（Colab L4想定）\n",
        "os.environ[\"CUDA_VISIBLE_DEVICES\"] = \"0\"\n",
        "\n",
        "# まれな相性問題の回避に有効な場合あり（必要時のみ有効化）\n",
        "# os.environ[\"VLLM_USE_TRITON_FLASH_ATTENTION\"] = \"0\"\n",
        "\n",
        "print(\"環境変数を設定しました。\")\n"
      ],
      "metadata": {
        "id": "GGoFCL_1vXaT"
      },
      "execution_count": null,
      "outputs": []
    },
    {
      "cell_type": "code",
      "source": [
        "from huggingface_hub import login\n",
        "login()  # 対話プロンプトに従って hf_ から始まるトークンを貼り付け\n"
      ],
      "metadata": {
        "id": "_aUlB5PPy3ms"
      },
      "execution_count": null,
      "outputs": []
    },
    {
      "cell_type": "code",
      "source": [
        "from vllm import LLM, SamplingParams\n",
        "\n",
        "MODEL_ID = \"tokyotech-llm/Llama-3.1-Swallow-8B-Instruct-v0.5\"\n",
        "\n",
        "llm = LLM(\n",
        "    model=MODEL_ID,\n",
        "    dtype=\"auto\",            # L4 なら自動で bfloat16 を選択\n",
        "    max_model_len=4096,      # 必要に応じて後で 8192 に拡大（VRAMと相談）\n",
        "    trust_remote_code=True,\n",
        ")\n",
        "\n",
        "params = SamplingParams(\n",
        "    temperature=0.6,\n",
        "    top_p=0.9,\n",
        "    max_tokens=128,\n",
        ")\n",
        "\n",
        "messages = [\n",
        "    {\"role\": \"system\", \"content\": \"あなたは礼儀正しく明晰な日本語で応答するアシスタントです。\"},\n",
        "    {\"role\": \"user\", \"content\": \"短く自己紹介してください。\"}\n",
        "]\n",
        "\n",
        "out = llm.chat(messages=messages, sampling_params=params)\n",
        "print(out[0].outputs[0].text)\n"
      ],
      "metadata": {
        "id": "gHd9v56Ry6LV"
      },
      "execution_count": null,
      "outputs": []
    },
    {
      "cell_type": "code",
      "source": [
        "from transformers import AutoTokenizer\n",
        "from vllm import LLM, SamplingParams\n",
        "\n",
        "model_name = \"tokyotech-llm/Llama-3.1-Swallow-8B-Instruct-v0.5\"\n",
        "\n",
        "tokenizer = AutoTokenizer.from_pretrained(model_name)\n",
        "\n",
        "llm = LLM(\n",
        "    model=model_name,\n",
        "    dtype=\"auto\",\n",
        "    max_model_len=4096,\n",
        "    trust_remote_code=True,\n",
        "    tensor_parallel_size=1,\n",
        ")\n",
        "\n",
        "sampling_params = SamplingParams(\n",
        "    temperature=0.6,\n",
        "    top_p=0.9,\n",
        "    max_tokens=512,\n",
        "    # stop はまず未指定（特殊トークン名の不一致で止まらないケースを避ける）\n",
        ")\n",
        "\n",
        "messages = [\n",
        "    {\n",
        "        \"role\": \"user\",\n",
        "        \"content\": \"東京の紅葉した公園で、東京タワーと高層ビルを背景に、空を舞うツバメと草地に佇むラマが出会う温かな物語を書いてください。\",\n",
        "    },\n",
        "]\n",
        "\n",
        "prompt = tokenizer.apply_chat_template(\n",
        "    messages, tokenize=False, add_generation_prompt=True\n",
        ")\n",
        "\n",
        "outputs = llm.generate([prompt], sampling_params)  # ★ リストで渡す\n",
        "print(outputs[0].outputs[0].text)\n"
      ],
      "metadata": {
        "id": "fzJfbwhky6CS"
      },
      "execution_count": null,
      "outputs": []
    },
    {
      "cell_type": "code",
      "source": [],
      "metadata": {
        "id": "nB78f7jEy_Wy"
      },
      "execution_count": null,
      "outputs": []
    }
  ]
}