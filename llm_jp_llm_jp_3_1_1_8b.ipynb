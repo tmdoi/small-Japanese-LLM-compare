{
  "nbformat": 4,
  "nbformat_minor": 0,
  "metadata": {
    "colab": {
      "provenance": [],
      "gpuType": "T4",
      "authorship_tag": "ABX9TyMzY3JZ1jvtcxVfC4DjYQWQ",
      "include_colab_link": true
    },
    "kernelspec": {
      "name": "python3",
      "display_name": "Python 3"
    },
    "language_info": {
      "name": "python"
    },
    "accelerator": "GPU"
  },
  "cells": [
    {
      "cell_type": "markdown",
      "metadata": {
        "id": "view-in-github",
        "colab_type": "text"
      },
      "source": [
        "<a href=\"https://colab.research.google.com/github/tmdoi/small-Japanese-LLM-compare/blob/main/llm_jp_llm_jp_3_1_1_8b.ipynb\" target=\"_parent\"><img src=\"https://colab.research.google.com/assets/colab-badge.svg\" alt=\"Open In Colab\"/></a>"
      ]
    },
    {
      "cell_type": "code",
      "execution_count": null,
      "metadata": {
        "id": "MM_JrCOVvZGn"
      },
      "outputs": [],
      "source": [
        "import torch\n",
        "from transformers import AutoTokenizer, AutoModelForCausalLM\n",
        "tokenizer = AutoTokenizer.from_pretrained(\"llm-jp/llm-jp-3.1-1.8b\")\n",
        "model = AutoModelForCausalLM.from_pretrained(\"llm-jp/llm-jp-3.1-1.8b\", device_map=\"auto\", torch_dtype=torch.bfloat16)\n",
        "text = \"自然言語処理とは何か\"\n",
        "tokenized_input = tokenizer.encode(text, add_special_tokens=False, return_tensors=\"pt\").to(model.device)\n",
        "with torch.no_grad():\n",
        "    output = model.generate(\n",
        "        tokenized_input,\n",
        "        max_new_tokens=100,\n",
        "        do_sample=True,\n",
        "        top_p=0.95,\n",
        "        temperature=0.7,\n",
        "        repetition_penalty=1.05,\n",
        "    )[0]\n",
        "print(tokenizer.decode(output))\n"
      ]
    },
    {
      "cell_type": "code",
      "source": [
        "import torch\n",
        "from transformers import AutoTokenizer, AutoModelForCausalLM\n",
        "tokenizer = AutoTokenizer.from_pretrained(\"llm-jp/llm-jp-3.1-1.8b\")\n",
        "model = AutoModelForCausalLM.from_pretrained(\"llm-jp/llm-jp-3.1-1.8b\", device_map=\"auto\", torch_dtype=torch.bfloat16)\n",
        "text = \"情報処理とは何か\"\n",
        "tokenized_input = tokenizer.encode(text, add_special_tokens=False, return_tensors=\"pt\").to(model.device)\n",
        "with torch.no_grad():\n",
        "    output = model.generate(\n",
        "        tokenized_input,\n",
        "        max_new_tokens=100,\n",
        "        do_sample=True,\n",
        "        top_p=0.95,\n",
        "        temperature=0.7,\n",
        "        repetition_penalty=1.05,\n",
        "    )[0]\n",
        "print(tokenizer.decode(output))\n"
      ],
      "metadata": {
        "id": "25c-TX_Lw25S"
      },
      "execution_count": null,
      "outputs": []
    }
  ]
}